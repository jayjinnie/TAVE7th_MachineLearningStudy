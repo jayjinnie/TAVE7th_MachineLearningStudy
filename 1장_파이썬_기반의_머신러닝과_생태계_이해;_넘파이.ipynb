{
  "nbformat": 4,
  "nbformat_minor": 0,
  "metadata": {
    "kernelspec": {
      "display_name": "Python 3",
      "language": "python",
      "name": "python3"
    },
    "language_info": {
      "codemirror_mode": {
        "name": "ipython",
        "version": 3
      },
      "file_extension": ".py",
      "mimetype": "text/x-python",
      "name": "python",
      "nbconvert_exporter": "python",
      "pygments_lexer": "ipython3",
      "version": "3.8.5"
    },
    "colab": {
      "name": "1장 파이썬 기반의 머신러닝과 생태계 이해; 넘파이.ipynb",
      "provenance": [],
      "toc_visible": true,
      "include_colab_link": true
    }
  },
  "cells": [
    {
      "cell_type": "markdown",
      "metadata": {
        "id": "view-in-github",
        "colab_type": "text"
      },
      "source": [
        "<a href=\"https://colab.research.google.com/github/jayjinnie/TAVE7th_MachineLearningStudy/blob/main/1%EC%9E%A5_%ED%8C%8C%EC%9D%B4%EC%8D%AC_%EA%B8%B0%EB%B0%98%EC%9D%98_%EB%A8%B8%EC%8B%A0%EB%9F%AC%EB%8B%9D%EA%B3%BC_%EC%83%9D%ED%83%9C%EA%B3%84_%EC%9D%B4%ED%95%B4%3B_%EB%84%98%ED%8C%8C%EC%9D%B4.ipynb\" target=\"_parent\"><img src=\"https://colab.research.google.com/assets/colab-badge.svg\" alt=\"Open In Colab\"/></a>"
      ]
    },
    {
      "cell_type": "markdown",
      "metadata": {
        "id": "6ifMddeiuEzd"
      },
      "source": [
        "# 넘파이 ndarray 개요"
      ]
    },
    {
      "cell_type": "markdown",
      "metadata": {
        "id": "JGM9U7UkuEzi"
      },
      "source": [
        "##### ndarray란? => numpy 기반 데이터 타입! 다차원(Multi-dimen-sion)배열을 생성 및 다양한 연산을 수행 가능"
      ]
    },
    {
      "cell_type": "code",
      "metadata": {
        "id": "zxh9XJZpuEzj"
      },
      "source": [
        "import numpy as np"
      ],
      "execution_count": null,
      "outputs": []
    },
    {
      "cell_type": "code",
      "metadata": {
        "scrolled": true,
        "id": "xXWb93G3uEzj",
        "outputId": "abb32dca-d3f4-4694-cf0b-5884ad743357"
      },
      "source": [
        "array1 = np.array([1,2,3]) # array(): 다양한 인자를 입력받아 ndarray로 변환 \n",
        "print('arra1 type:', type(array1)) # 해당 변수의 데이터 타입을 반환 ex. ndarray, list...\n",
        "print('array1 array 형태:', array1.shape) # shape: ndarray의 차원과 크기를 튜플(tuple) 형태로 반환\n"
      ],
      "execution_count": null,
      "outputs": [
        {
          "output_type": "stream",
          "text": [
            "arra1 type: <class 'numpy.ndarray'>\n",
            "array1 array 형태: (3,)\n"
          ],
          "name": "stdout"
        }
      ]
    },
    {
      "cell_type": "code",
      "metadata": {
        "id": "6rlMUoGyuEzk",
        "outputId": "5c12f435-a82d-4160-9765-3a412f567569"
      },
      "source": [
        "print(array1)"
      ],
      "execution_count": null,
      "outputs": [
        {
          "output_type": "stream",
          "text": [
            "[1 2 3]\n"
          ],
          "name": "stdout"
        }
      ]
    },
    {
      "cell_type": "code",
      "metadata": {
        "id": "X5TR6xRUuEzk",
        "outputId": "dee0f244-eb32-4c4d-f254-ec14b725438e"
      },
      "source": [
        "array2 = np.array([[1,2,3],\n",
        "                   [2,3,4]])\n",
        "print('array2 type:', type(array2))\n",
        "print('array2 array 형태:', array2.shape)\n",
        "# 2개의 row와 3개의 col을 가지고 있는 2차원 array"
      ],
      "execution_count": null,
      "outputs": [
        {
          "output_type": "stream",
          "text": [
            "array2 type: <class 'numpy.ndarray'>\n",
            "array2 array 형태: (2, 3)\n"
          ],
          "name": "stdout"
        }
      ]
    },
    {
      "cell_type": "code",
      "metadata": {
        "id": "RBb9IXJDuEzl",
        "outputId": "f5ea2492-7cab-4a29-c812-ac0e49f9d9c1"
      },
      "source": [
        "array3 = np.array([[1,2,3]])\n",
        "print('array3 type:', type(array3))\n",
        "print('array3 array 형태:', array3.shape)\n",
        "# 1개의 row와 3개의 col을 가지고 있는 '2차원 데이터'\n",
        "# array1과는 구분되는 2차원 데이터!"
      ],
      "execution_count": null,
      "outputs": [
        {
          "output_type": "stream",
          "text": [
            "array3 type: <class 'numpy.ndarray'>\n",
            "array3 array 형태: (1, 3)\n"
          ],
          "name": "stdout"
        }
      ]
    },
    {
      "cell_type": "code",
      "metadata": {
        "id": "L-jJeGswuEzl",
        "outputId": "edac2666-49b2-44e2-c8b3-e880a6c558ba"
      },
      "source": [
        "print('array1: {:0}차원, array2: {:1}차원, array3: {:3}차원'.format(array1.ndim, array2.ndim, array3.ndim))\n",
        "# ndim: ndarray의 차원을 반환"
      ],
      "execution_count": null,
      "outputs": [
        {
          "output_type": "stream",
          "text": [
            "array1: 1차원, array2: 2차원, array3:   2차원\n"
          ],
          "name": "stdout"
        }
      ]
    },
    {
      "cell_type": "markdown",
      "metadata": {
        "id": "AWQBtV1juEzl"
      },
      "source": [
        "# ndaaray의 데이터 타입"
      ]
    },
    {
      "cell_type": "code",
      "metadata": {
        "id": "K2bnkcRkuEzl",
        "outputId": "3c6e1fe3-dada-4a3a-b82f-231c367f8e57"
      },
      "source": [
        "list1 = [1,2,3]\n",
        "print(type(list1))\n",
        "\n",
        "array1 = np.array(list1)\n",
        "print(type(array1))\n",
        "print(array1, array1.dtype) # dtype: ndarray 내의 데이터 타입을 반환"
      ],
      "execution_count": null,
      "outputs": [
        {
          "output_type": "stream",
          "text": [
            "<class 'list'>\n",
            "<class 'numpy.ndarray'>\n",
            "[1 2 3] int32\n"
          ],
          "name": "stdout"
        }
      ]
    },
    {
      "cell_type": "markdown",
      "metadata": {
        "id": "lPYd7gpKuEzm"
      },
      "source": [
        "##### ndarray 내의 데이터 타입은 모두 같아야 함"
      ]
    },
    {
      "cell_type": "code",
      "metadata": {
        "id": "KIatNcWZuEzm",
        "outputId": "81c2c821-e6e3-42e3-edfa-c531d1d5664c"
      },
      "source": [
        "# ndarray 내의 데이터 타입이 하나라도 다를 경우, 데이터 크기가 '더 큰' 데이터 타입으로 형 변환을 일괄 적용\n",
        "\n",
        "list2 = [1,2,'test']\n",
        "array2 = np.array(list2)\n",
        "print(array2, array2.dtype)\n",
        "# int형과 string형이 섞여 있을 경우, int형을 string형으로 변환\n",
        "\n",
        "list3 = [1,2,3.0]\n",
        "array3 = np.array(list3)\n",
        "print(array3, array3.dtype)\n",
        "# int형과 float형이 섞여 있을 경우, int형을 float형으로 변환\n",
        "\n",
        "list4 = [2.7, 'test']\n",
        "array4 = np.array(list4)\n",
        "print(array4, array4.dtype)\n",
        "# float형과 string형이 섞여 있을 경우, float형을 string형으로 변환 "
      ],
      "execution_count": null,
      "outputs": [
        {
          "output_type": "stream",
          "text": [
            "['1' '2' 'test'] <U11\n",
            "[1. 2. 3.] float64\n",
            "['2.7' 'test'] <U32\n"
          ],
          "name": "stdout"
        }
      ]
    },
    {
      "cell_type": "code",
      "metadata": {
        "id": "pAuaynxEuEzm",
        "outputId": "fe19be5c-1adf-44e2-ccd8-a5a1cd33bd3c"
      },
      "source": [
        "# int형을 float형으로 변경\n",
        "array_int = np.array([1,2,3])\n",
        "array_float = array_int.astype('float64') # astype(): ndarray 내 데이터 값의 타입을 변경\n",
        "print(array_float, array_float.dtype)\n",
        "\n",
        "# 위 작업을 통해 생성된 float형 ndaray를 int형으로 변경\n",
        "array_int2 = array_float.astype('int32')\n",
        "print(array_int2, array_int2.dtype)\n",
        "\n",
        "# float형을 int형으로 변경 (소수점 이하는 모두 없어짐)\n",
        "array_float2 = np.array([1.1, 2.1, 3.1])\n",
        "array_int3 = array_float.astype('int32')\n",
        "print(array_int3, array_int3.dtype)"
      ],
      "execution_count": null,
      "outputs": [
        {
          "output_type": "stream",
          "text": [
            "[1. 2. 3.] float64\n",
            "[1 2 3] int32\n",
            "[1 2 3] int32\n"
          ],
          "name": "stdout"
        }
      ]
    },
    {
      "cell_type": "markdown",
      "metadata": {
        "id": "vAZuV5gxuEzm"
      },
      "source": [
        "# ndarray를 편리하게 생성하기 - arange, zeros, ones"
      ]
    },
    {
      "cell_type": "markdown",
      "metadata": {
        "id": "XTLP-SIEuEzn"
      },
      "source": [
        "###### arange(): 0부터 'stop값 - 1'까지의 수를 순차적으로 ndarray의 데이터 값으로 변환\n",
        "###### start값을 설정하지 않을 시, 0으로 자동 지정 "
      ]
    },
    {
      "cell_type": "code",
      "metadata": {
        "id": "COPxHZzCuEzn",
        "outputId": "719ab223-d3a6-46d9-aab8-2ecd62e19e42"
      },
      "source": [
        "for i in range(0, 10):\n",
        "    print(i)"
      ],
      "execution_count": null,
      "outputs": [
        {
          "output_type": "stream",
          "text": [
            "0\n",
            "1\n",
            "2\n",
            "3\n",
            "4\n",
            "5\n",
            "6\n",
            "7\n",
            "8\n",
            "9\n"
          ],
          "name": "stdout"
        }
      ]
    },
    {
      "cell_type": "code",
      "metadata": {
        "id": "kkMNy7AquEzn",
        "outputId": "1319e375-90d1-4e85-a236-5bf0897d759b"
      },
      "source": [
        "sequence_array = np.arange(10) \n",
        "print(sequence_array)\n",
        "print(sequence_array.dtype, sequence_array.shape)"
      ],
      "execution_count": null,
      "outputs": [
        {
          "output_type": "stream",
          "text": [
            "[0 1 2 3 4 5 6 7 8 9]\n",
            "int32 (10,)\n"
          ],
          "name": "stdout"
        }
      ]
    },
    {
      "cell_type": "markdown",
      "metadata": {
        "id": "qDu5em78uEzn"
      },
      "source": [
        "##### zeros(): 튜플 형태의 shape값을 입력하면 모든 값을 0으로 채운 ndarray를 반환 "
      ]
    },
    {
      "cell_type": "code",
      "metadata": {
        "id": "szGgTWdquEzn",
        "outputId": "c0d4c7d7-97a2-44af-9d5b-5ee058c3a732"
      },
      "source": [
        "zero_array = np.zeros((3,2), dtype='int32') \n",
        "print(zero_array)\n",
        "print(zero_array.dtype, zero_array.shape)"
      ],
      "execution_count": null,
      "outputs": [
        {
          "output_type": "stream",
          "text": [
            "[[0 0]\n",
            " [0 0]\n",
            " [0 0]]\n",
            "int32 (3, 2)\n"
          ],
          "name": "stdout"
        }
      ]
    },
    {
      "cell_type": "code",
      "metadata": {
        "id": "vngM_69RuEzo",
        "outputId": "d2ebb6dd-6d1b-49c4-ddd7-3a43544060f1"
      },
      "source": [
        "print(np.zeros_like(sequence_array))"
      ],
      "execution_count": null,
      "outputs": [
        {
          "output_type": "stream",
          "text": [
            "[0 0 0 0 0 0 0 0 0 0]\n"
          ],
          "name": "stdout"
        }
      ]
    },
    {
      "cell_type": "markdown",
      "metadata": {
        "id": "yYdz0KA9uEzo"
      },
      "source": [
        "##### ones(): 튜플 형태의 shape값을 입력하면 모든 값을 1로 채운 ndarray를 반환"
      ]
    },
    {
      "cell_type": "code",
      "metadata": {
        "id": "jCGYq6ZkuEzo",
        "outputId": "a97d5734-5d6b-4fcb-8c09-2ce3bf2a952a"
      },
      "source": [
        "one_array = np.ones((3,2)) # dtype을 지정하지 않을 경우 기본 반환형은 float형\n",
        "print(one_array)\n",
        "print(one_array.dtype, one_array.shape)"
      ],
      "execution_count": null,
      "outputs": [
        {
          "output_type": "stream",
          "text": [
            "[[1. 1.]\n",
            " [1. 1.]\n",
            " [1. 1.]]\n",
            "float64 (3, 2)\n"
          ],
          "name": "stdout"
        }
      ]
    },
    {
      "cell_type": "markdown",
      "metadata": {
        "id": "beSr4js8uEzo"
      },
      "source": [
        "# ndarray의 차원과 크기를 변경하는 reshape()"
      ]
    },
    {
      "cell_type": "code",
      "metadata": {
        "id": "UKfbr1gRuEzo",
        "outputId": "bc606f09-d6c6-48c2-ff34-abd6595c4011"
      },
      "source": [
        "array1 = np.arange(10)\n",
        "print('array1:\\n', array1)\n",
        "\n",
        "array2 = array1.reshape(2, 5) # row:2, col:5 형태의 array로 변환\n",
        "print('array2:\\n', array2)\n",
        "\n",
        "array3 = array1.reshape(5,2) # row: 5, col:2 형태의 array로 변환\n",
        "print('array3:\\n', array3)"
      ],
      "execution_count": null,
      "outputs": [
        {
          "output_type": "stream",
          "text": [
            "array1:\n",
            " [0 1 2 3 4 5 6 7 8 9]\n",
            "array2:\n",
            " [[0 1 2 3 4]\n",
            " [5 6 7 8 9]]\n",
            "array3:\n",
            " [[0 1]\n",
            " [2 3]\n",
            " [4 5]\n",
            " [6 7]\n",
            " [8 9]]\n"
          ],
          "name": "stdout"
        }
      ]
    },
    {
      "cell_type": "code",
      "metadata": {
        "id": "II-RgIkmuEzo",
        "outputId": "2073e059-8fd1-4ea3-9653-412949c0e1b3"
      },
      "source": [
        "# 지정된 사이즈로 변경이 불가능할 경우 ValueError 발생\n",
        "array1.reshape(4,3)"
      ],
      "execution_count": null,
      "outputs": [
        {
          "output_type": "error",
          "ename": "ValueError",
          "evalue": "cannot reshape array of size 10 into shape (4,3)",
          "traceback": [
            "\u001b[1;31m---------------------------------------------------------------------------\u001b[0m",
            "\u001b[1;31mValueError\u001b[0m                                Traceback (most recent call last)",
            "\u001b[1;32m<ipython-input-27-a40469ec5825>\u001b[0m in \u001b[0;36m<module>\u001b[1;34m\u001b[0m\n\u001b[1;32m----> 1\u001b[1;33m \u001b[0marray1\u001b[0m\u001b[1;33m.\u001b[0m\u001b[0mreshape\u001b[0m\u001b[1;33m(\u001b[0m\u001b[1;36m4\u001b[0m\u001b[1;33m,\u001b[0m\u001b[1;36m3\u001b[0m\u001b[1;33m)\u001b[0m\u001b[1;33m\u001b[0m\u001b[1;33m\u001b[0m\u001b[0m\n\u001b[0m",
            "\u001b[1;31mValueError\u001b[0m: cannot reshape array of size 10 into shape (4,3)"
          ]
        }
      ]
    },
    {
      "cell_type": "code",
      "metadata": {
        "id": "OVzHcRhkuEzp",
        "outputId": "bdbe3e45-25fc-440c-9afd-89482569204c"
      },
      "source": [
        "# reshape()에서 인자로 -1을 사용할 경우, 원래의 ndarray와 호환되는 새로운 shape로 변환\n",
        "array1 = np.arange(10)\n",
        "print(array1)\n",
        "\n",
        "array2 = array1.reshape(-1, 5)\n",
        "print('array2 shape:', array2.shape)\n",
        "\n",
        "array3 = array1.reshape(5, -1)\n",
        "print('array3 shape:', array3.shape)"
      ],
      "execution_count": null,
      "outputs": [
        {
          "output_type": "stream",
          "text": [
            "[0 1 2 3 4 5 6 7 8 9]\n",
            "array2 shape: (2, 5)\n",
            "array3 shape: (5, 2)\n"
          ],
          "name": "stdout"
        }
      ]
    },
    {
      "cell_type": "code",
      "metadata": {
        "id": "kXr5gdVIuEzp",
        "outputId": "6b1dbacc-3448-4b13-e8f7-c30971fe90b7"
      },
      "source": [
        "# 이 경우에도 호환될 수 없는 형태는 변환 불가\n",
        "array4 = array1.reshape(-1, 4)"
      ],
      "execution_count": null,
      "outputs": [
        {
          "output_type": "error",
          "ename": "ValueError",
          "evalue": "cannot reshape array of size 10 into shape (4)",
          "traceback": [
            "\u001b[1;31m---------------------------------------------------------------------------\u001b[0m",
            "\u001b[1;31mValueError\u001b[0m                                Traceback (most recent call last)",
            "\u001b[1;32m<ipython-input-29-7e1461ea4d71>\u001b[0m in \u001b[0;36m<module>\u001b[1;34m\u001b[0m\n\u001b[1;32m----> 1\u001b[1;33m \u001b[0marray4\u001b[0m \u001b[1;33m=\u001b[0m \u001b[0marray1\u001b[0m\u001b[1;33m.\u001b[0m\u001b[0mreshape\u001b[0m\u001b[1;33m(\u001b[0m\u001b[1;33m-\u001b[0m\u001b[1;36m1\u001b[0m\u001b[1;33m,\u001b[0m \u001b[1;36m4\u001b[0m\u001b[1;33m)\u001b[0m\u001b[1;33m\u001b[0m\u001b[1;33m\u001b[0m\u001b[0m\n\u001b[0m",
            "\u001b[1;31mValueError\u001b[0m: cannot reshape array of size 10 into shape (4)"
          ]
        }
      ]
    },
    {
      "cell_type": "code",
      "metadata": {
        "id": "ay3eGtBRuEzp",
        "outputId": "0f2db9cf-15bf-460e-ee8a-ba85c76cd4fb"
      },
      "source": [
        "array1 = np.arange(8)\n",
        "array3d = array1.reshape((2,2,2))\n",
        "print('array3d:\\n', array3d.tolist()) # tolist(): list 자료형으로 변환\n",
        "\n",
        "# 3차원 ndarray를 2차원 ndarray로 변환\n",
        "array5 = array3d.reshape(-1,2)\n",
        "print('array5:\\n', array5.tolist())\n",
        "print('array5 shape:', array5.shape)\n",
        "\n",
        "# 1차원 ndarray를 2차원 ndarray로 변환\n",
        "array6 = array1.reshape(-1, 1)\n",
        "print('array6:\\n', array6.tolist())\n",
        "print('array6 shape:', array6.shape)"
      ],
      "execution_count": null,
      "outputs": [
        {
          "output_type": "stream",
          "text": [
            "array3d:\n",
            " [[[0, 1], [2, 3]], [[4, 5], [6, 7]]]\n",
            "array5:\n",
            " [[0, 1], [2, 3], [4, 5], [6, 7]]\n",
            "array5 shape: (4, 2)\n",
            "array6:\n",
            " [[0], [1], [2], [3], [4], [5], [6], [7]]\n",
            "array6 shape: (8, 1)\n"
          ],
          "name": "stdout"
        }
      ]
    },
    {
      "cell_type": "code",
      "metadata": {
        "id": "lKmXHPmUuEzp",
        "outputId": "407cb1c8-5d07-42a9-8564-60a6889e0b65"
      },
      "source": [
        "# 출력값을 list로 변환하지 않은 경우\n",
        "\n",
        "array1 = np.arange(8)\n",
        "array3d = array1.reshape((2,2,2))\n",
        "print('array3d:\\n', array3d, '\\n')\n",
        "\n",
        "# 3차원 ndarray를 2차원 ndarray로 변환\n",
        "array5 = array3d.reshape(-1,1)\n",
        "print('array5:\\n', array5)\n",
        "print('array5 shape:', array5.shape, '\\n')\n",
        "\n",
        "# 1차원 ndarray를 2차원 ndarray로 변환\n",
        "array6 = array1.reshape(-1, 1)\n",
        "print('array6:\\n', array6)\n",
        "print('array6 shape:', array6.shape)"
      ],
      "execution_count": null,
      "outputs": [
        {
          "output_type": "stream",
          "text": [
            "array3d:\n",
            " [[[0 1]\n",
            "  [2 3]]\n",
            "\n",
            " [[4 5]\n",
            "  [6 7]]] \n",
            "\n",
            "array5:\n",
            " [[0]\n",
            " [1]\n",
            " [2]\n",
            " [3]\n",
            " [4]\n",
            " [5]\n",
            " [6]\n",
            " [7]]\n",
            "array5 shape: (8, 1) \n",
            "\n",
            "array6:\n",
            " [[0]\n",
            " [1]\n",
            " [2]\n",
            " [3]\n",
            " [4]\n",
            " [5]\n",
            " [6]\n",
            " [7]]\n",
            "array6 shape: (8, 1)\n"
          ],
          "name": "stdout"
        }
      ]
    },
    {
      "cell_type": "markdown",
      "metadata": {
        "id": "0sr8oLPHuEzp"
      },
      "source": [
        "# 넘파이의 ndarray의 데이터 세트 선택하기 - 인덱싱(Indexing)"
      ]
    },
    {
      "cell_type": "markdown",
      "metadata": {
        "id": "Ssv2AlVXuEzq"
      },
      "source": [
        "### 단일 값 추출"
      ]
    },
    {
      "cell_type": "code",
      "metadata": {
        "id": "GIi3mswNuEzq",
        "outputId": "87cac513-8bec-4c82-b799-2a62dc0625d8"
      },
      "source": [
        "# 1부터 9까지의 1차원 ndarray 생성\n",
        "array1 = np.arange(start=1, stop=10)\n",
        "print('array1:', array1)\n",
        "\n",
        "# index는 0부터 시작. array1[2]는 3임\n",
        "value = array1[2]\n",
        "print('array1[2] value:', value)\n",
        "print(type(value))"
      ],
      "execution_count": null,
      "outputs": [
        {
          "output_type": "stream",
          "text": [
            "array1: [1 2 3 4 5 6 7 8 9]\n",
            "array1[2] value: 3\n",
            "<class 'numpy.int32'>\n"
          ],
          "name": "stdout"
        }
      ]
    },
    {
      "cell_type": "code",
      "metadata": {
        "id": "nMGDMR5ouEzq",
        "outputId": "108583dd-a12f-4634-b3f2-134543ace24b"
      },
      "source": [
        "# 맨뒤의 값은 array[-1], 뒤에서 두번째 값은 array[-2]로 추출 가능\n",
        "print('맨 뒤의 값:', array1[-1], ' 맨 뒤에서 두 번째 값:', array1[-2]) # java [-1]"
      ],
      "execution_count": null,
      "outputs": [
        {
          "output_type": "stream",
          "text": [
            "맨 뒤의 값: 9  맨 뒤에서 두 번째 값: 8\n"
          ],
          "name": "stdout"
        }
      ]
    },
    {
      "cell_type": "code",
      "metadata": {
        "id": "Dy4DdqveuEzq",
        "outputId": "65b57506-3b62-4ccb-b695-820b62fe7180"
      },
      "source": [
        "# index를 이용하여 배열 내 값을 수정할 수 있음\n",
        "array1[0] = 9\n",
        "array1[8] = 0\n",
        "print('array1:', array1)"
      ],
      "execution_count": null,
      "outputs": [
        {
          "output_type": "stream",
          "text": [
            "array1: [9 2 3 4 5 6 7 8 0]\n"
          ],
          "name": "stdout"
        }
      ]
    },
    {
      "cell_type": "markdown",
      "metadata": {
        "id": "GdyfiDYjuEzr"
      },
      "source": [
        "##### 2차원 ndarray에서의 단일 값 추출"
      ]
    },
    {
      "cell_type": "code",
      "metadata": {
        "scrolled": true,
        "id": "WYXFAfgJuEzr",
        "outputId": "3839c976-e8cd-40db-c935-e001ba6334f8"
      },
      "source": [
        "array1d = np.arange(start=1, stop=10)\n",
        "array2d = array1d.reshape(3, 3)\n",
        "print(array2d)\n",
        "\n",
        "print('(row=0, col=0) index 가리키는 값:', array2d[0, 0])\n",
        "print('(row=0, col=1) index 가리키는 값:', array2d[0, 1])\n",
        "print('(row=1, col=0) index 가리키는 값:', array2d[1, 0])\n",
        "print('(row=2, col=2) index 가리키는 값:', array2d[2, 2])"
      ],
      "execution_count": null,
      "outputs": [
        {
          "output_type": "stream",
          "text": [
            "[[1 2 3]\n",
            " [4 5 6]\n",
            " [7 8 9]]\n",
            "(row=0, col=0) index 가리키는 값: 1\n",
            "(row=0, col=1) index 가리키는 값: 2\n",
            "(row=1, col=0) index 가리키는 값: 4\n",
            "(row=2, col=2) index 가리키는 값: 9\n"
          ],
          "name": "stdout"
        }
      ]
    },
    {
      "cell_type": "code",
      "metadata": {
        "id": "eaMTkFLeuEzr",
        "outputId": "24b6eb3e-ad6d-4fab-f067-87a0289fa8f8"
      },
      "source": [
        "# 넘파이 ndarray에서 row = axis0, col = axis1\n",
        "print('(axis0=0, axis1=0) index 가리키는 값:', array2d[0, 0])\n",
        "print('(axis0=0, axis1=1) index 가리키는 값:', array2d[0, 1])\n",
        "print('(axis0=1, axis1=0) index 가리키는 값:', array2d[1, 0])\n",
        "print('(axis0=2, axis1=2) index 가리키는 값:', array2d[2, 2])"
      ],
      "execution_count": null,
      "outputs": [
        {
          "output_type": "stream",
          "text": [
            "(axis0=0, axis1=0) index 가리키는 값: 1\n",
            "(axis0=0, axis1=1) index 가리키는 값: 2\n",
            "(axis0=1, axis1=0) index 가리키는 값: 4\n",
            "(axis0=2, axis1=2) index 가리키는 값: 9\n"
          ],
          "name": "stdout"
        }
      ]
    },
    {
      "cell_type": "markdown",
      "metadata": {
        "id": "YLAfj-EluEzr"
      },
      "source": [
        "### 슬라이싱"
      ]
    },
    {
      "cell_type": "code",
      "metadata": {
        "id": "cq1xifQ_uEzr",
        "outputId": "d6ad79f8-c36a-4d0e-8766-410d141e6487"
      },
      "source": [
        "# indexing을 통한 '단일 데이터 값 추출'을 제외하고, \n",
        "# 슬라이싱, 팬시 인덱싱, 불린 인덱싱으로 추출된 데이터 세트는 모두 'ndarray' 타입!\n",
        "array1 = np.arange(start=1, stop=10)\n",
        "array3 = array1[0:3]\n",
        "print(array3)\n",
        "print(type(array3))"
      ],
      "execution_count": null,
      "outputs": [
        {
          "output_type": "stream",
          "text": [
            "[1 2 3]\n",
            "<class 'numpy.ndarray'>\n"
          ],
          "name": "stdout"
        }
      ]
    },
    {
      "cell_type": "code",
      "metadata": {
        "id": "GsbwKkC1uEzr",
        "outputId": "3509f2e2-ce07-48b8-e4aa-700dd10de99e"
      },
      "source": [
        "array1 = np.arange(start=1, stop=10)\n",
        "# 시작 인덱스를 생략할 경우 자동으로 맨 처음 인덱스인 0으로 간주\n",
        "array4 = array1[:3]\n",
        "print(array4)\n",
        "# 종료 인덱스를 생략할 경우 자동으로 맨 마지막 인덱스로 간주\n",
        "array5 = array1[3:]\n",
        "print(array5)\n",
        "# 시작/종료 인덱스를 생략할 경우 자동으로 맨 처음/맨 마지막 인덱스로 간주\n",
        "array6 = array1[:]\n",
        "print(array6)"
      ],
      "execution_count": null,
      "outputs": [
        {
          "output_type": "stream",
          "text": [
            "[1 2 3]\n",
            "[4 5 6 7 8 9]\n",
            "[1 2 3 4 5 6 7 8 9]\n"
          ],
          "name": "stdout"
        }
      ]
    },
    {
      "cell_type": "markdown",
      "metadata": {
        "id": "Nst_3uvauEzs"
      },
      "source": [
        "##### 2차원 배열에서의 슬라이싱"
      ]
    },
    {
      "cell_type": "code",
      "metadata": {
        "id": "U95jsfo6uEzs",
        "outputId": "4fc2be5b-6818-4a53-c0f8-2092b78eda88"
      },
      "source": [
        "array1d = np.arange(start=1, stop=10)\n",
        "array2d = array1d.reshape(3,3)\n",
        "print('array2d:\\n', array2d, '\\n')\n",
        "\n",
        "print('array2d[0:2, 0:2]\\n', array2d[0:2, 0:2], '\\n')\n",
        "print('array2d[1:3, 0:3]\\n', array2d[1:3, 0:3], '\\n')\n",
        "print('array2d[1:3, :]\\n', array2d[1:3, :], '\\n')\n",
        "print('array2d[:, :]\\n', array2d[:, :], '\\n')\n",
        "print('array2d[:2, 0]\\n', array2d[:2, 0], '\\n') # 한쪽에는 슬라이싱을, 한쪽에는 단일 값을 적용해도 ok"
      ],
      "execution_count": null,
      "outputs": [
        {
          "output_type": "stream",
          "text": [
            "array2d:\n",
            " [[1 2 3]\n",
            " [4 5 6]\n",
            " [7 8 9]] \n",
            "\n",
            "array2d[0:2, 0:2]\n",
            " [[1 2]\n",
            " [4 5]] \n",
            "\n",
            "array2d[1:3, 0:3]\n",
            " [[4 5 6]\n",
            " [7 8 9]] \n",
            "\n",
            "array2d[1:3, :]\n",
            " [[4 5 6]\n",
            " [7 8 9]] \n",
            "\n",
            "array2d[:, :]\n",
            " [[1 2 3]\n",
            " [4 5 6]\n",
            " [7 8 9]] \n",
            "\n",
            "array2d[:2, 0]\n",
            " [1 4] \n",
            "\n"
          ],
          "name": "stdout"
        }
      ]
    },
    {
      "cell_type": "code",
      "metadata": {
        "id": "xWOucZTauEzs",
        "outputId": "b0be46df-1d85-49b4-c6d4-b9f6a755c21b"
      },
      "source": [
        "# 2차원 ndarray에서 뒤에 오는 인덱스를 없애면, 1차원 ndarray 반환\n",
        "print(array2d[0])\n",
        "print(array2d[:,1])\n",
        "print('array2d[0] shape:', array2d[0].shape)\n",
        "print('array2d[1] shape:', array2d[1].shape)\n",
        "\n",
        "# 마찬가지로, 3차원 ndarray에서 뒤에 오는 인덱스를 없애면, 2차원 ndarray 반환"
      ],
      "execution_count": null,
      "outputs": [
        {
          "output_type": "stream",
          "text": [
            "[1 2 3]\n",
            "[2 5 8]\n",
            "array2d[0] shape: (3,)\n",
            "array2d[1] shape: (3,)\n"
          ],
          "name": "stdout"
        }
      ]
    },
    {
      "cell_type": "markdown",
      "metadata": {
        "id": "ifruu8xUuEzs"
      },
      "source": [
        "### 팬시 인덱싱 (Fancy Indexing)\n",
        "###### 리스트나 ndarray로 인덱스 집합을 지정하면, 해당 위치의 index에 해당하는 ndarray를반환"
      ]
    },
    {
      "cell_type": "code",
      "metadata": {
        "id": "OtjbYVvquEzs",
        "outputId": "d70c47e9-679c-4512-be7e-c6a05827d92c"
      },
      "source": [
        "array1d = np.arange(start=1, stop=10)\n",
        "array2d = array1d.reshape(3,3)\n",
        "\n",
        "# (row, col) 인덱스가 -> (0,2),(1,2)로 적용됨\n",
        "array3 = array2d[[0,1], 2]\n",
        "print('array2d[0,1, 2] =>', array3.tolist())\n",
        "\n",
        "# ((0,0),(0,1)), ((1,0), (1,1))\n",
        "array4 = array2d[[0,2], 0:2]\n",
        "print('array2d[[0,2], 0:2] =>', array4.tolist())\n",
        "\n",
        "# ((0,:), (1,:))\n",
        "array5 = array2d[[0,1]]\n",
        "print('array2d[0,1] =>', array5.tolist())"
      ],
      "execution_count": null,
      "outputs": [
        {
          "output_type": "stream",
          "text": [
            "array2d[0,1, 2] => [3, 6]\n",
            "array2d[0,1, 0:2] => [[1, 2], [7, 8]]\n",
            "array2d[0,1] => [[1, 2, 3], [4, 5, 6]]\n"
          ],
          "name": "stdout"
        }
      ]
    },
    {
      "cell_type": "markdown",
      "metadata": {
        "id": "2Ecb6AdduEzt"
      },
      "source": [
        "### 불린 인덱싱 (Boolean Indexing)\n",
        "##### 조건문을 입력 받아, 조건 필터링과 검색을 동시에 가능하게 함"
      ]
    },
    {
      "cell_type": "code",
      "metadata": {
        "id": "W-YS79t_uEzt",
        "outputId": "889967f5-acec-41e4-9be6-dcb6f7e73f67"
      },
      "source": [
        "array1d = np.arange(start=1, stop=10)\n",
        "print(array1d)\n",
        "\n",
        "# []안에 'array1d > 5' 불린 인덱싱을 적용\n",
        "array3 = array1d[array1d > 5]\n",
        "print('array1d > 5 불린 인덱싱 결과 값:', array3)"
      ],
      "execution_count": null,
      "outputs": [
        {
          "output_type": "stream",
          "text": [
            "[1 2 3 4 5 6 7 8 9]\n",
            "array1d > 5 불린 인덱싱 결과 값: [6 7 8 9]\n"
          ],
          "name": "stdout"
        }
      ]
    },
    {
      "cell_type": "markdown",
      "metadata": {
        "id": "r0HlbxpBuEzt"
      },
      "source": [
        "##### 조건문에 따라 ndarray 내 데이터 값을 True/False로 분류,\n",
        "##### True 값이 있는 위치 인덱스 값을 자동으로 변환하여, 해당 인덱스 위치의 데이터만 반환"
      ]
    },
    {
      "cell_type": "code",
      "metadata": {
        "scrolled": true,
        "id": "k2IGe88UuEzt",
        "outputId": "9f94033c-e353-4fad-9bda-f881be7abf73"
      },
      "source": [
        "array1d > 5"
      ],
      "execution_count": null,
      "outputs": [
        {
          "output_type": "execute_result",
          "data": {
            "text/plain": [
              "array([False, False, False, False, False,  True,  True,  True,  True])"
            ]
          },
          "metadata": {
            "tags": []
          },
          "execution_count": 36
        }
      ]
    },
    {
      "cell_type": "code",
      "metadata": {
        "id": "apm6JEcSuEzt",
        "outputId": "a8ce0725-cff4-44c7-a80e-6b60544c063a"
      },
      "source": [
        "# 직접 boolean 인덱스 집합을 만들어 대입해도 같은 결과!\n",
        "boolean_indexes = np.array([False, False, False, False, False,  True,  True,  True,  True])\n",
        "array3 = array1d[boolean_indexes]\n",
        "print('불린 인덱스로 필터링한 결과:', array3)\n",
        "\n",
        "indexes = np.array([5,6,7,8])\n",
        "array4 = array1d[indexes]\n",
        "print('일반 인덱스로 필터링 결과:', array4)"
      ],
      "execution_count": null,
      "outputs": [
        {
          "output_type": "stream",
          "text": [
            "불린 인덱스로 필터링한 결과: [6 7 8 9]\n",
            "일반 인덱스로 필터링 결과: [6 7 8 9]\n"
          ],
          "name": "stdout"
        }
      ]
    },
    {
      "cell_type": "markdown",
      "metadata": {
        "id": "MFTRYv1puEzt"
      },
      "source": [
        "### 행렬의 정렬 - sort()와 argsort()\n",
        "##### 행렬 정렬\n",
        "##### np.sort(): 원 행렬은 그대로 유지한 채 행렬의 정렬된 행렬을 반환"
      ]
    },
    {
      "cell_type": "code",
      "metadata": {
        "id": "dE1wwSsauEzu",
        "outputId": "0d87b7b9-3273-41e6-cb4a-7309afcf2aa1"
      },
      "source": [
        "org_array = np.array([3,1,9,5])\n",
        "print('원본 행렬:', org_array)\n",
        "\n",
        "sort_array1 = np.sort(org_array)\n",
        "print('np.sort() 호출 후 반환된 정렬 행렬:', sort_array1)\n",
        "print('np.sort() 호출 후 원본 행렬:', org_array)"
      ],
      "execution_count": null,
      "outputs": [
        {
          "output_type": "stream",
          "text": [
            "원본 행렬: [3 1 9 5]\n",
            "np.sort() 호출 후 반환된 정렬 행렬: [1 3 5 9]\n",
            "np.sort() 호출 후 원본 행렬: [3 1 9 5]\n"
          ],
          "name": "stdout"
        }
      ]
    },
    {
      "cell_type": "markdown",
      "metadata": {
        "id": "Othm6VnSuEzu"
      },
      "source": [
        "###### ndarray.sort(): 원 행렬 자체를 정렬한 형태로 변환, 반환 값은 None"
      ]
    },
    {
      "cell_type": "code",
      "metadata": {
        "id": "6OAOPEVvuEzu",
        "outputId": "65bbf5bd-a502-40d4-e564-00ab5542c7fa"
      },
      "source": [
        "sort_array2 = org_array.sort()\n",
        "print('ndarray.sort() 호출 후 반환된 정렬 행렬:', sort_array2)\n",
        "print('ndarray.sort() 호출 후 원본 행렬:', org_array)"
      ],
      "execution_count": null,
      "outputs": [
        {
          "output_type": "stream",
          "text": [
            "ndarray.sort() 호출 후 반환된 정렬 행렬: None\n",
            "ndarray.sort() 호출 후 원본 행렬: [1 3 5 9]\n"
          ],
          "name": "stdout"
        }
      ]
    },
    {
      "cell_type": "markdown",
      "metadata": {
        "id": "5Dq8wgSpuEzu"
      },
      "source": [
        "###### 내림차순 정렬: [::-1] 적용"
      ]
    },
    {
      "cell_type": "code",
      "metadata": {
        "id": "vUiT4wQLuEzu",
        "outputId": "3e669707-46fa-4448-8db4-97231c65d9b3"
      },
      "source": [
        "sort_array1_desc = np.sort(org_array)[::-1]\n",
        "print(sort_array1_desc)"
      ],
      "execution_count": null,
      "outputs": [
        {
          "output_type": "stream",
          "text": [
            "[9 5 3 1]\n"
          ],
          "name": "stdout"
        }
      ]
    },
    {
      "cell_type": "markdown",
      "metadata": {
        "id": "wxbr45MEuEzv"
      },
      "source": [
        "##### 2차원 이상의 행렬 정렬: axis 축 값 설정을 통해 row / col 방향으로 정렬을 수행"
      ]
    },
    {
      "cell_type": "code",
      "metadata": {
        "id": "IFxe_HwruEzv",
        "outputId": "91b00a30-8248-4588-c8da-680662b75cd3"
      },
      "source": [
        "array2d = np.array([[8, 12],\n",
        "                    [7, 1]])\n",
        "\n",
        "# row 방향(=위에서 아래로)으로 정렬 \n",
        "sort_array2d_axis0 = np.sort(array2d, axis=0)\n",
        "print('로우 방향으로 정렬:\\n', sort_array2d_axis0)\n",
        "\n",
        "# col 방향(=왼쪽에서 오른쪽으로 정렬)\n",
        "sort_array2d_axis1 = np.sort(array2d, axis=1)\n",
        "print('칼럼 방향으로 정렬:\\n', sort_array2d_axis1)"
      ],
      "execution_count": null,
      "outputs": [
        {
          "output_type": "stream",
          "text": [
            "로우 방향으로 정렬:\n",
            " [[ 7  1]\n",
            " [ 8 12]]\n",
            "칼럼 방향으로 정렬:\n",
            " [[ 8 12]\n",
            " [ 1  7]]\n"
          ],
          "name": "stdout"
        }
      ]
    },
    {
      "cell_type": "code",
      "metadata": {
        "id": "Hj_Bi1zJuEzv",
        "outputId": "1d2b75cb-c3ea-449a-a8f2-a4a342cc3d43"
      },
      "source": [
        "print(np.sort(array2d, axis=1)[::-1])"
      ],
      "execution_count": null,
      "outputs": [
        {
          "output_type": "stream",
          "text": [
            "[[ 1  7]\n",
            " [ 8 12]]\n"
          ],
          "name": "stdout"
        }
      ]
    },
    {
      "cell_type": "markdown",
      "metadata": {
        "id": "vhL6dUwzuEzv"
      },
      "source": [
        "### 정렬된 행렬의 인덱스를 반환하기\n",
        "##### np.argsort(): 정렬 행렬의 인덱스를 ndarray형으로 반환"
      ]
    },
    {
      "cell_type": "code",
      "metadata": {
        "id": "4kUcVyF3uEzw",
        "outputId": "8b66f6fc-9ad5-4a3c-bc32-a31d2ced5c94"
      },
      "source": [
        "org_array = np.array([3, 1, 9, 5])\n",
        "sort_indices = np.argsort(org_array)\n",
        "print(type(sort_indices))\n",
        "# 정렬 결과: [1, 3, 5, 9]\n",
        "print('행렬 정렬 시 원본 행렬의 인덱스:', sort_indices)"
      ],
      "execution_count": null,
      "outputs": [
        {
          "output_type": "stream",
          "text": [
            "<class 'numpy.ndarray'>\n",
            "행렬 정렬 시 원본 행렬의 인덱스: [1 0 3 2]\n"
          ],
          "name": "stdout"
        }
      ]
    },
    {
      "cell_type": "code",
      "metadata": {
        "id": "IOp0q_K-uEzw",
        "outputId": "74a65117-522a-4683-e94f-c6c19c599bdf"
      },
      "source": [
        "org_array = np.array([3, 1, 9, 5])\n",
        "sort_indices_desc = np.argsort(org_array)[::-1]\n",
        "# 정렬 결과: [9, 5, 3, 1]\n",
        "print('행렬 내림차순 정렬 시 원본 행렬의 인덱스:', sort_indices_desc)"
      ],
      "execution_count": null,
      "outputs": [
        {
          "output_type": "stream",
          "text": [
            "행렬 내림차순 정렬 시 원본 행렬의 인덱스: [2 3 0 1]\n"
          ],
          "name": "stdout"
        }
      ]
    },
    {
      "cell_type": "markdown",
      "metadata": {
        "id": "Tza4D77ruEzw"
      },
      "source": [
        "##### np.argsort() 활용법"
      ]
    },
    {
      "cell_type": "code",
      "metadata": {
        "id": "Pq-StNPVuEzw",
        "outputId": "d000f174-96a2-4b91-9bec-f45c8d97b596"
      },
      "source": [
        "name_array = np.array(['John', 'Mike', 'Sarah', 'Kate', 'Samuel'])\n",
        "score_array = np.array([78, 95, 84, 98, 88])\n",
        "\n",
        "sort_indices_asc = np.argsort(score_array)\n",
        "# 오름차순 정렬 결과: [78, 84, 88, 95, 98]\n",
        "# 각각의 원래 인덱스: [0, 2, 4, 1, 3]\n",
        "\n",
        "print('성적 오름차순 정렬 시 score_array의 인덱스:', sort_indices_asc)\n",
        "print('성적 오름차순으로 name_array의 이름 출력:', name_array[sort_indices_asc])"
      ],
      "execution_count": null,
      "outputs": [
        {
          "output_type": "stream",
          "text": [
            "성적 오름차순 정렬 시 score_array의 인덱스: [0 2 4 1 3]\n",
            "성적 오름차순으로 name_array의 이름 출력: ['John' 'Sarah' 'Samuel' 'Mike' 'Kate']\n"
          ],
          "name": "stdout"
        }
      ]
    },
    {
      "cell_type": "markdown",
      "metadata": {
        "id": "KYrvP7EZuEzw"
      },
      "source": [
        "# 선형대수 연산 - 행렬 내적과 전치 행렬 구하기\n",
        "### 행렬 내적 (행렬 곱): 왼쪽 행렬의 row와 오른쪽 행렬의 col의 원소들을 순차적으로 곱한 뒤 그 결과를 모두 더한 값\n",
        "##### 왼쪽 행렬의 열 개수와 오른쪽 행렬의 행 개수가 동일해야 내적 연산 가능\n",
        "##### np.dot(): 행렬 내적 함수"
      ]
    },
    {
      "cell_type": "code",
      "metadata": {
        "id": "B1T0sR7BuEzx",
        "outputId": "15c0df87-4370-4037-c95e-7ec07f1830fb"
      },
      "source": [
        "A = np.array([[1,2,3],\n",
        "              [4,5,6]])\n",
        "B = np.array([[7,8],\n",
        "              [9,10],\n",
        "              [11,12]])\n",
        "\n",
        "dot_product = np.dot(A, B)\n",
        "print('행렬 내적 결과:\\n', dot_product)"
      ],
      "execution_count": null,
      "outputs": [
        {
          "output_type": "stream",
          "text": [
            "행렬 내적 결과:\n",
            " [[ 58  64]\n",
            " [139 154]]\n"
          ],
          "name": "stdout"
        }
      ]
    },
    {
      "cell_type": "markdown",
      "metadata": {
        "id": "P-62_DzOuEzx"
      },
      "source": [
        "### 전치 행렬: 원 행렬에서 행과 열 위치를 교환한 원소로 구성한 행렬\n",
        "##### np.transpose(): 전치 행렬 함수"
      ]
    },
    {
      "cell_type": "code",
      "metadata": {
        "id": "YUywbo4YuEzx",
        "outputId": "2ae232cd-bf98-440f-8e6c-78f2875384db"
      },
      "source": [
        "A = np.array([[1,2],\n",
        "              [3,4]])\n",
        "transpose_mat = np.transpose(A)\n",
        "print('A의 전치 행렬:\\n', transpose_mat)"
      ],
      "execution_count": null,
      "outputs": [
        {
          "output_type": "stream",
          "text": [
            "A의 전치 행렬:\n",
            " [[1 3]\n",
            " [2 4]]\n"
          ],
          "name": "stdout"
        }
      ]
    }
  ]
}